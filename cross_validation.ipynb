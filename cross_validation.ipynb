{
  "nbformat": 4,
  "nbformat_minor": 0,
  "metadata": {
    "colab": {
      "provenance": []
    },
    "kernelspec": {
      "name": "python3",
      "display_name": "Python 3"
    },
    "language_info": {
      "name": "python"
    }
  },
  "cells": [
    {
      "cell_type": "code",
      "execution_count": null,
      "metadata": {
        "id": "o3YPVUML4kS6"
      },
      "outputs": [],
      "source": []
    },
    {
      "cell_type": "markdown",
      "source": [
        "Cross-Validation and scoring methods\n"
      ],
      "metadata": {
        "id": "WcG0X9xb43Ah"
      }
    },
    {
      "cell_type": "code",
      "source": [
        "from sklearn.datasets import load_iris\n",
        "from sklearn.neighbors import KNeighborsClassifier\n",
        "\n",
        "iris= load_iris()\n",
        "X, y = iris.data, iris.target\n",
        "classifier = KNeighborsClassifier()"
      ],
      "metadata": {
        "id": "ai4wwQji49Z1"
      },
      "execution_count": 8,
      "outputs": []
    },
    {
      "cell_type": "markdown",
      "source": [
        "The labels in iris are sorted, which means that if we split the data, the first fold will only have the label 0 in it, while the last one will only have the label 2:"
      ],
      "metadata": {
        "id": "JrOd0jIF6af8"
      }
    },
    {
      "cell_type": "code",
      "source": [
        "y"
      ],
      "metadata": {
        "colab": {
          "base_uri": "https://localhost:8080/"
        },
        "id": "fx-NY0046RSR",
        "outputId": "b0b6cc37-d796-429f-e16f-af33212efb52"
      },
      "execution_count": 5,
      "outputs": [
        {
          "output_type": "execute_result",
          "data": {
            "text/plain": [
              "array([0, 0, 0, 0, 0, 0, 0, 0, 0, 0, 0, 0, 0, 0, 0, 0, 0, 0, 0, 0, 0, 0,\n",
              "       0, 0, 0, 0, 0, 0, 0, 0, 0, 0, 0, 0, 0, 0, 0, 0, 0, 0, 0, 0, 0, 0,\n",
              "       0, 0, 0, 0, 0, 0, 1, 1, 1, 1, 1, 1, 1, 1, 1, 1, 1, 1, 1, 1, 1, 1,\n",
              "       1, 1, 1, 1, 1, 1, 1, 1, 1, 1, 1, 1, 1, 1, 1, 1, 1, 1, 1, 1, 1, 1,\n",
              "       1, 1, 1, 1, 1, 1, 1, 1, 1, 1, 1, 1, 2, 2, 2, 2, 2, 2, 2, 2, 2, 2,\n",
              "       2, 2, 2, 2, 2, 2, 2, 2, 2, 2, 2, 2, 2, 2, 2, 2, 2, 2, 2, 2, 2, 2,\n",
              "       2, 2, 2, 2, 2, 2, 2, 2, 2, 2, 2, 2, 2, 2, 2, 2, 2, 2])"
            ]
          },
          "metadata": {},
          "execution_count": 5
        }
      ]
    },
    {
      "cell_type": "markdown",
      "source": [
        "To avoid this problem in evaluation, we first shuffle our data:\n"
      ],
      "metadata": {
        "id": "udD22uZpB7RW"
      }
    },
    {
      "cell_type": "code",
      "source": [
        "import numpy as np\n",
        "rng = np.random.RandomState(0)\n",
        "\n",
        "permutation = rng.permutation(len(X))\n",
        "X, y = X[permutation], y[permutation]\n",
        "print(y)"
      ],
      "metadata": {
        "colab": {
          "base_uri": "https://localhost:8080/"
        },
        "id": "i_SpMkMdB9Rk",
        "outputId": "1f01efb8-4254-46df-f69b-7c5355de87e1"
      },
      "execution_count": 10,
      "outputs": [
        {
          "output_type": "stream",
          "name": "stdout",
          "text": [
            "[2 1 0 2 0 2 0 1 1 1 2 1 1 1 1 0 1 1 0 0 2 1 0 0 2 0 0 1 1 0 2 1 0 2 2 1 0\n",
            " 1 1 1 2 0 2 0 0 1 2 2 2 2 1 2 1 1 2 2 2 2 1 2 1 0 2 1 1 1 1 2 0 0 2 1 0 0\n",
            " 1 0 2 1 0 1 2 1 0 2 2 2 2 0 0 2 2 0 2 0 2 2 0 0 2 0 0 0 1 2 2 0 0 0 1 1 0\n",
            " 0 1 0 2 1 2 1 0 2 0 2 0 0 2 0 2 1 1 1 2 2 1 1 0 1 2 2 0 1 1 1 1 0 0 0 2 1\n",
            " 2 0]\n"
          ]
        }
      ]
    },
    {
      "cell_type": "markdown",
      "source": [
        "Now implementing cross-validation is easy:"
      ],
      "metadata": {
        "id": "H-1CzEWKC9mG"
      }
    },
    {
      "cell_type": "code",
      "source": [
        "k = 5\n",
        "n_samples = len(X)\n",
        "fold_size = n_samples // k\n",
        "scores =[]\n",
        "masks =[]\n",
        "for fold in range(k):\n",
        "  #generate a boolean mask for the test set in this fold\n",
        "  test_mask = np.zeros(n_samples, dtype = (bool))\n",
        "  test_mask[fold * fold_size : (fold + 1) * fold_size] = True\n",
        "  #srote the mask for visualization\n",
        "  masks.append(test_mask)\n",
        "  #creating training and test sets using this mask\n",
        "  X_test, y_test = X[test_mask], y[test_mask]\n",
        "  X_train, y_train = X[~test_mask], y[~test_mask]\n",
        "  #fit the classifier\n",
        "  classifier.fit(X_train, y_train)\n",
        "  #compute the score and recorde it\n",
        "  scores.append(classifier.score(X_test, y_test))\n"
      ],
      "metadata": {
        "id": "iO9khGfNC-nc"
      },
      "execution_count": 14,
      "outputs": []
    },
    {
      "cell_type": "code",
      "source": [
        "import matplotlib.pyplot as plt\n",
        "%matplotlib  inline\n",
        "plt.matshow(masks, cmap = \"gray_r\")\n"
      ],
      "metadata": {
        "colab": {
          "base_uri": "https://localhost:8080/",
          "height": 123
        },
        "id": "2Zk39-uAtjC-",
        "outputId": "98d499ee-ee04-4624-c7ee-dde54f03592f"
      },
      "execution_count": 16,
      "outputs": [
        {
          "output_type": "execute_result",
          "data": {
            "text/plain": [
              "<matplotlib.image.AxesImage at 0x78f637c88400>"
            ]
          },
          "metadata": {},
          "execution_count": 16
        },
        {
          "output_type": "display_data",
          "data": {
            "text/plain": [
              "<Figure size 1600x200 with 1 Axes>"
            ],
            "image/png": "[encoded data removed]"
          },
          "metadata": {}
        }
      ]
    },
    {
      "cell_type": "code",
      "source": [
        "print(scores)\n",
        "print(np.mean(scores))"
      ],
      "metadata": {
        "colab": {
          "base_uri": "https://localhost:8080/"
        },
        "id": "ADtcKpnwxAWJ",
        "outputId": "5b14bcad-8ff1-40ae-f77c-19eca8464a02"
      },
      "execution_count": 17,
      "outputs": [
        {
          "output_type": "stream",
          "name": "stdout",
          "text": [
            "[0.9666666666666667, 0.9, 1.0, 1.0, 0.9333333333333333]\n",
            "0.96\n"
          ]
        }
      ]
    },
    {
      "cell_type": "markdown",
      "source": [
        "As you can see, there is a rather wide spectrum of scores from 90% correct to 100% correct. If we only did a single split, we might have gotten either answer."
      ],
      "metadata": {
        "id": "Qdwy8GnVxT_G"
      }
    },
    {
      "cell_type": "markdown",
      "source": [
        "As cross-validation is such a common pattern in machine learning, there are functions to do the above for you with much more flexibility and less code. The sklearn.model_selection module has all functions related to cross validation. There easiest function is cross_val_score which takes an estimator and a dataset, and will do all of the splitting for you"
      ],
      "metadata": {
        "id": "P-8oR3pJxeyI"
      }
    },
    {
      "cell_type": "code",
      "source": [
        "from sklearn.model_selection import cross_val_score\n",
        "scores = cross_val_score(classifier, X, y)\n",
        "print(scores)\n",
        "print(np.mean(scores))"
      ],
      "metadata": {
        "colab": {
          "base_uri": "https://localhost:8080/"
        },
        "id": "_SPn8VZJxU7B",
        "outputId": "97c4bcb1-9165-4c76-a571-eec8da415a17"
      },
      "execution_count": 19,
      "outputs": [
        {
          "output_type": "stream",
          "name": "stdout",
          "text": [
            "[1.         0.93333333 1.         1.         0.93333333]\n",
            "0.9733333333333334\n"
          ]
        }
      ]
    },
    {
      "cell_type": "markdown",
      "source": [
        "As you can see, the function uses three folds by default. You can change the number of folds using the cv argument:"
      ],
      "metadata": {
        "id": "a8Ny1bhxyOLR"
      }
    },
    {
      "cell_type": "code",
      "source": [
        "cross_val_score(classifier, X, y, cv=5)"
      ],
      "metadata": {
        "colab": {
          "base_uri": "https://localhost:8080/"
        },
        "id": "xwhCFyKNyO-j",
        "outputId": "cbf138d8-d17e-4be6-eaab-f86d3300fced"
      },
      "execution_count": 20,
      "outputs": [
        {
          "output_type": "execute_result",
          "data": {
            "text/plain": [
              "array([1.        , 0.93333333, 1.        , 1.        , 0.93333333])"
            ]
          },
          "metadata": {},
          "execution_count": 20
        }
      ]
    },
    {
      "cell_type": "markdown",
      "source": [
        "There are also helper objects in the cross-validation module that will generate indices for you for all kinds of different cross-validation methods, including k-fold:"
      ],
      "metadata": {
        "id": "ZIwbkQfqyk4i"
      }
    },
    {
      "cell_type": "code",
      "source": [
        "from sklearn.model_selection import KFold, StratifiedKFold, ShuffleSplit"
      ],
      "metadata": {
        "id": "QzOL3Dm9ylms"
      },
      "execution_count": 21,
      "outputs": []
    },
    {
      "cell_type": "markdown",
      "source": [
        "By default, cross_val_score will use StratifiedKFold for classification, which ensures that the class proportions in the dataset are reflected in each fold. If you have a binary classification dataset with 90% of data point belonging to class 0, that would mean that in each fold, 90% of datapoints would belong to class 0. If you would just use KFold cross-validation, it is likely that you would generate a split that only contains class 0. It is generally a good idea to use StratifiedKFold whenever you do classification.\n",
        "\n",
        "StratifiedKFold would also remove our need to shuffle iris. Let's see what kinds of folds it generates on the unshuffled iris dataset. Each cross-validation class is a generator of sets of training and test indices:"
      ],
      "metadata": {
        "id": "xFX_UlPy0oxy"
      }
    },
    {
      "cell_type": "code",
      "source": [
        "cv = StratifiedKFold(n_splits=5)\n",
        "for train, test in cv.split(iris.data, iris.target):\n",
        "  print(test)"
      ],
      "metadata": {
        "colab": {
          "base_uri": "https://localhost:8080/"
        },
        "id": "b5tnklTD0p19",
        "outputId": "e37e5f9a-cf13-4dd0-e6f5-847155e3e1da"
      },
      "execution_count": 22,
      "outputs": [
        {
          "output_type": "stream",
          "name": "stdout",
          "text": [
            "[  0   1   2   3   4   5   6   7   8   9  50  51  52  53  54  55  56  57\n",
            "  58  59 100 101 102 103 104 105 106 107 108 109]\n",
            "[ 10  11  12  13  14  15  16  17  18  19  60  61  62  63  64  65  66  67\n",
            "  68  69 110 111 112 113 114 115 116 117 118 119]\n",
            "[ 20  21  22  23  24  25  26  27  28  29  70  71  72  73  74  75  76  77\n",
            "  78  79 120 121 122 123 124 125 126 127 128 129]\n",
            "[ 30  31  32  33  34  35  36  37  38  39  80  81  82  83  84  85  86  87\n",
            "  88  89 130 131 132 133 134 135 136 137 138 139]\n",
            "[ 40  41  42  43  44  45  46  47  48  49  90  91  92  93  94  95  96  97\n",
            "  98  99 140 141 142 143 144 145 146 147 148 149]\n"
          ]
        }
      ]
    },
    {
      "cell_type": "markdown",
      "source": [
        "As you can see, there are a couple of samples from the beginning, then from the middle, and then from the end, in each of the folds. This way, the class ratios are preserved. Let's visualize the split:"
      ],
      "metadata": {
        "id": "LSoANo3c5RKU"
      }
    },
    {
      "cell_type": "code",
      "source": [
        "def plot_cv(cv, features,labels):\n",
        "  masks=[]\n",
        "  for train, test in cv.split(features, labels):\n",
        "    mask = np.zeros(len(labels), dtype=\"bool\")\n",
        "    mask[test]=1\n",
        "    masks.append(mask)\n",
        "\n",
        "  plt.matshow(masks, cmap=\"gray_r\")\n"
      ],
      "metadata": {
        "id": "aMhcUAOU5SXO"
      },
      "execution_count": 32,
      "outputs": []
    },
    {
      "cell_type": "code",
      "source": [
        "plot_cv(StratifiedKFold(n_splits=5), iris.data, iris.target)"
      ],
      "metadata": {
        "colab": {
          "base_uri": "https://localhost:8080/",
          "height": 106
        },
        "id": "1jFCBT777Dgh",
        "outputId": "c9ca960a-3b62-4cd6-ca9f-10424915d387"
      },
      "execution_count": 33,
      "outputs": [
        {
          "output_type": "display_data",
          "data": {
            "text/plain": [
              "<Figure size 1600x200 with 1 Axes>"
            ],
            "image/png": "[encoded data removed]"
          },
          "metadata": {}
        }
      ]
    },
    {
      "cell_type": "markdown",
      "source": [
        "For comparison, again the standard KFold, that ignores the labels:"
      ],
      "metadata": {
        "id": "kBGrWFyh8Chv"
      }
    },
    {
      "cell_type": "code",
      "source": [
        "plot_cv(KFold(n_splits=5), iris.data, iris.target)"
      ],
      "metadata": {
        "colab": {
          "base_uri": "https://localhost:8080/",
          "height": 106
        },
        "id": "2kFrieC98DSL",
        "outputId": "24e342f5-26ef-40c9-fd2e-d9aa50ecb89e"
      },
      "execution_count": 34,
      "outputs": [
        {
          "output_type": "display_data",
          "data": {
            "text/plain": [
              "<Figure size 1600x200 with 1 Axes>"
            ],
            "image/png": "[encoded data removed]"
          },
          "metadata": {}
        }
      ]
    },
    {
      "cell_type": "markdown",
      "source": [
        "Keep in mind that increasing the number of folds will give you a larger training dataset, but will lead to more repetitions, and therefore a slower evaluation:"
      ],
      "metadata": {
        "id": "vs-krVCh9nAM"
      }
    },
    {
      "cell_type": "code",
      "source": [
        "plot_cv(KFold(n_splits=10), iris.data, iris.target)"
      ],
      "metadata": {
        "colab": {
          "base_uri": "https://localhost:8080/",
          "height": 148
        },
        "id": "mh1EM24G9bYs",
        "outputId": "38c4e292-1e5e-4273-e4ea-0b55a39a9329"
      },
      "execution_count": 35,
      "outputs": [
        {
          "output_type": "display_data",
          "data": {
            "text/plain": [
              "<Figure size 1600x200 with 1 Axes>"
            ],
            "image/png": "[encoded data removed]"
          },
          "metadata": {}
        }
      ]
    },
    {
      "cell_type": "markdown",
      "source": [
        "Another helpful cross-validation generator is ShuffleSplit. This generator simply splits of a random portion of the data repeatedly. This allows the user to specify the number of repetitions and the training set size independently:"
      ],
      "metadata": {
        "id": "KKADE2iV-BpR"
      }
    },
    {
      "cell_type": "code",
      "source": [
        "plot_cv(ShuffleSplit(n_splits=5, test_size=.2), iris.data, iris.target)"
      ],
      "metadata": {
        "colab": {
          "base_uri": "https://localhost:8080/",
          "height": 106
        },
        "id": "6OGm_4dm-Cq0",
        "outputId": "0873f62d-2f43-48b8-8245-869ee7d43837"
      },
      "execution_count": 36,
      "outputs": [
        {
          "output_type": "display_data",
          "data": {
            "text/plain": [
              "<Figure size 1600x200 with 1 Axes>"
            ],
            "image/png": "[encoded data removed]"
          },
          "metadata": {}
        }
      ]
    },
    {
      "cell_type": "markdown",
      "source": [
        "If you want a more robust estimate, you can just increase the number of splits:"
      ],
      "metadata": {
        "id": "6jTMsOfb-aBP"
      }
    },
    {
      "cell_type": "code",
      "source": [
        "plot_cv(ShuffleSplit(n_splits=20, test_size=.2), iris.data, iris.target)"
      ],
      "metadata": {
        "colab": {
          "base_uri": "https://localhost:8080/",
          "height": 230
        },
        "id": "bhpejDOn9z6F",
        "outputId": "29cbac53-d41b-4379-f8c5-78c4cb62d46b"
      },
      "execution_count": 37,
      "outputs": [
        {
          "output_type": "display_data",
          "data": {
            "text/plain": [
              "<Figure size 1600x213.333 with 1 Axes>"
            ],
            "image/png": "[encoded data removed]"
          },
          "metadata": {}
        }
      ]
    },
    {
      "cell_type": "markdown",
      "source": [
        "You can use all of these cross-validation generators with the cross_val_score method:"
      ],
      "metadata": {
        "id": "ifRRU-xt-ug3"
      }
    },
    {
      "cell_type": "code",
      "source": [
        "cv=ShuffleSplit(n_splits=5, test_size=.2)\n",
        "cross_val_score(classifier, X, y, cv=cv)"
      ],
      "metadata": {
        "colab": {
          "base_uri": "https://localhost:8080/"
        },
        "id": "ynd5xW7B-vY0",
        "outputId": "6ea21697-3768-4815-9720-d416ab2e04d7"
      },
      "execution_count": 38,
      "outputs": [
        {
          "output_type": "execute_result",
          "data": {
            "text/plain": [
              "array([1.        , 0.96666667, 0.93333333, 0.96666667, 0.96666667])"
            ]
          },
          "metadata": {},
          "execution_count": 38
        }
      ]
    },
    {
      "cell_type": "markdown",
      "source": [
        "Perform three-fold cross-validation using the ``KFold`` class on the iris dataset without shuffling the data. Can you explain the result?"
      ],
      "metadata": {
        "id": "c2mmGRbo_Pq8"
      }
    },
    {
      "cell_type": "code",
      "source": [],
      "metadata": {
        "id": "OGUT0NvN_ZSx"
      },
      "execution_count": null,
      "outputs": []
    }
  ]
}